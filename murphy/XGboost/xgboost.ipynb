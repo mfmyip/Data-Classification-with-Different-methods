{
 "cells": [
  {
   "cell_type": "code",
   "execution_count": 11,
   "id": "d089d808",
   "metadata": {},
   "outputs": [],
   "source": [
    "from sklearn.feature_selection import SelectFromModel\n",
    "from sklearn.model_selection import train_test_split\n",
    "import sklearn.metrics as skm\n",
    "import pandas as pd\n",
    "import numpy as np\n",
    "\n",
    "data_train = pd.read_csv(\"../preprocessing/preprocesed_variables_train.csv\")\n",
    "important_variables = pd.read_csv(\"../preprocessing/important.csv\")\n",
    "\n",
    "X = data_train.drop(columns=['health'])\n",
    "#X = X[important_variables['0']]\n",
    "y = data_train['health']\n",
    "\n",
    "X_train, X_test, y_train, y_test = train_test_split(\n",
    "    X, y, test_size=0.4, random_state=20712124, stratify = y)"
   ]
  },
  {
   "cell_type": "code",
   "execution_count": 14,
   "id": "8a058c37",
   "metadata": {},
   "outputs": [
    {
     "name": "stdout",
     "output_type": "stream",
     "text": [
      "[(1, 4376), (2, 4224), (3, 4447), (4, 4348), (5, 4304)]\n"
     ]
    },
    {
     "data": {
      "text/plain": [
       "<AxesSubplot:>"
      ]
     },
     "execution_count": 14,
     "metadata": {},
     "output_type": "execute_result"
    },
    {
     "data": {
      "image/png": "[encoded data removed]",
      "text/plain": [
       "<Figure size 432x288 with 1 Axes>"
      ]
     },
     "metadata": {
      "needs_background": "light"
     },
     "output_type": "display_data"
    }
   ],
   "source": [
    "from imblearn.over_sampling import ADASYN\n",
    "from imblearn.under_sampling import ClusterCentroids\n",
    "from collections import Counter\n",
    "\n",
    "# y.hist()\n",
    "# X_resampled, y_resampled = ADASYN().fit_resample(X_train, y_train)\n",
    "# print(sorted(Counter(y_resampled).items()))\n",
    "# y_resampled.hist()\n",
    "\n",
    "# cc = ClusterCentroids(random_state=0)\n",
    "# X_resampled, y_resampled = cc.fit_resample(X_train, y_train)\n",
    "# print(sorted(Counter(y_resampled).items()))\n",
    "# y_resampled.hist()"
   ]
  },
  {
   "cell_type": "code",
   "execution_count": 5,
   "id": "700399c3",
   "metadata": {},
   "outputs": [
    {
     "data": {
      "text/plain": [
       "0        1\n",
       "1        2\n",
       "2        4\n",
       "3        2\n",
       "4        2\n",
       "        ..\n",
       "17393    1\n",
       "17394    3\n",
       "17395    2\n",
       "17396    0\n",
       "17397    0\n",
       "Name: health, Length: 17398, dtype: int64"
      ]
     },
     "execution_count": 5,
     "metadata": {},
     "output_type": "execute_result"
    }
   ],
   "source": [
    "y - 1"
   ]
  },
  {
   "cell_type": "code",
   "execution_count": 15,
   "id": "89bfba94",
   "metadata": {},
   "outputs": [
    {
     "name": "stdout",
     "output_type": "stream",
     "text": [
      "[09:59:51] WARNING: C:/Users/Administrator/workspace/xgboost-win64_release_1.5.1/src/learner.cc:1115: Starting in XGBoost 1.3.0, the default evaluation metric used with the objective 'multi:softprob' was changed from 'merror' to 'mlogloss'. Explicitly set eval_metric if you'd like to restore the old behavior.\n"
     ]
    }
   ],
   "source": [
    "from sklearn.model_selection import GridSearchCV\n",
    "import xgboost as xgb\n",
    "\n",
    "model = xgb.XGBClassifier(\n",
    "    use_label_encoder=False,\n",
    "    objective=\"multi:softprob\",\n",
    "    num_class = 5,\n",
    "    **{'colsample_bytree': 0.7201663275432886, 'gamma': 0.4174981803004834, 'learning_rate': 0.0811519922347911, 'max_depth': 4, 'n_estimators': 112, 'subsample': 0.6466086108209839})\n",
    "\n",
    "\n",
    "# data = xgb.DMatrix(data=X_resampled, label=(y_resampled-1))\n",
    "\n",
    "# param = {'max_depth':2, 'eta':1, 'objective':'multi:softprob', 'tree_method': 'gpu_hist'}\n",
    "\n",
    "# num_round = 2\n",
    "# bst = xgb.XGBModel(param, data, num_round, verbose_eval = True)\n",
    "\n",
    "# #use gridsearch to test all values for n_neighbors\n",
    "# model = GridSearchCV(bst, random_grid, cv = 3, verbose = 2, scoring = \"neg_log_loss\")\n",
    "\n",
    "model = model.fit(X_resampled, y_resampled - 1)\n",
    "\n",
    "\n",
    "#model.best_params_, model.best_score_"
   ]
  },
  {
   "cell_type": "code",
   "execution_count": 16,
   "id": "914ae0fc",
   "metadata": {},
   "outputs": [
    {
     "data": {
      "text/plain": [
       "(1.2210724172342955, 0.45057471264367815)"
      ]
     },
     "execution_count": 16,
     "metadata": {},
     "output_type": "execute_result"
    }
   ],
   "source": [
    "y_pred = model.predict(X_test)\n",
    "y_pred_proba = model.predict_proba(X_test)\n",
    "\n",
    "skm.log_loss(y_test - 1, y_pred_proba), skm.accuracy_score(y_test - 1, y_pred)"
   ]
  },
  {
   "cell_type": "code",
   "execution_count": 14,
   "id": "4ad4db87",
   "metadata": {},
   "outputs": [],
   "source": [
    "y_pred = pd.DataFrame(model.predict(X_test))\n",
    "y_pred.to_csv(\"temp.csv\", index = False)"
   ]
  },
  {
   "cell_type": "code",
   "execution_count": 38,
   "id": "e6a2965a",
   "metadata": {},
   "outputs": [],
   "source": [
    "data_test = pd.read_csv(\"../preprocessing/preprocesed_variables_test.csv\")\n",
    "og_test = pd.read_csv(\"../../data/test.csv\")\n",
    "unique_ids = og_test['uniqueid']\n",
    "\n",
    "data_test = data_test.drop(columns='health')\n",
    "data_test = data_test[important_variables['0']]\n",
    "\n",
    "test_pred_proba = model.predict_proba(data_test)\n",
    "test_pred = pd.DataFrame({'p':model.predict(data_test)})\n",
    "\n",
    "test_pred.to_csv(\"temp.csv\", index = False)\n",
    "preds = pd.DataFrame(test_pred_proba, columns=['p1','p2','p3','p4','p5'])\n",
    "preds.insert(0, 'uniqueid', unique_ids)\n",
    "\n",
    "preds.to_csv(\"xgb_pred.csv\", index = False)"
   ]
  }
 ],
 "metadata": {
  "kernelspec": {
   "display_name": "Python 3 (ipykernel)",
   "language": "python",
   "name": "python3"
  },
  "language_info": {
   "codemirror_mode": {
    "name": "ipython",
    "version": 3
   },
   "file_extension": ".py",
   "mimetype": "text/x-python",
   "name": "python",
   "nbconvert_exporter": "python",
   "pygments_lexer": "ipython3",
   "version": "3.9.7"
  }
 },
 "nbformat": 4,
 "nbformat_minor": 5
}
